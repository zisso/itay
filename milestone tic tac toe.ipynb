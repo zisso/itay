{
 "cells": [
  {
   "cell_type": "code",
   "execution_count": null,
   "metadata": {
    "collapsed": true
   },
   "outputs": [],
   "source": [
    "board = [[1,2,3],\n",
    "         [4,5,6],\n",
    "         [7,8,9]]"
   ]
  },
  {
   "cell_type": "code",
   "execution_count": null,
   "metadata": {
    "collapsed": true
   },
   "outputs": [],
   "source": [
    "board_rep = [[],\n",
    "             [],\n",
    "             []]"
   ]
  },
  {
   "cell_type": "code",
   "execution_count": null,
   "metadata": {
    "collapsed": true
   },
   "outputs": [],
   "source": []
  },
  {
   "cell_type": "code",
   "execution_count": null,
   "metadata": {},
   "outputs": [],
   "source": [
    "li = [boradr_rep[0][0], board_rep[0][1], board_rep[0][2], '\\n',\n",
    "          board_rep[1][0], board_rep[1][1], board_rep[1][2], '\\n',\n",
    "         board_rep[2][0], board_rep[2][1], board_rep[2][2]]"
   ]
  },
  {
   "cell_type": "code",
   "execution_count": null,
   "metadata": {
    "collapsed": true
   },
   "outputs": [],
   "source": [
    "my_li = [board_rep for space in board_rep space += '    ']"
   ]
  },
  {
   "cell_type": "code",
   "execution_count": null,
   "metadata": {
    "collapsed": true
   },
   "outputs": [],
   "source": [
    "def board_display():\n",
    "    print(my_li)"
   ]
  },
  {
   "cell_type": "code",
   "execution_count": null,
   "metadata": {
    "collapsed": true
   },
   "outputs": [],
   "source": []
  },
  {
   "cell_type": "code",
   "execution_count": null,
   "metadata": {},
   "outputs": [],
   "source": [
    "def player_in(marker, position):\n",
    "    marker = input('its your turn, pleas assign which player are you(X or O)')\n",
    "    while marker != 'X' or 'O':\n",
    "            ask_again = input('try again')\n",
    "            marker = ask_again\n",
    "    position = input('ok, and what position would you like to place your marker at?')\n",
    "    while position not in range(board):\n",
    "        AA == input('try again')\n",
    "        position = AA \n",
    "    for row in board:\n",
    "        for column in row:\n",
    "            if board[row][column] == position:\n",
    "                board_rep[row][column] = marker\n",
    "                "
   ]
  },
  {
   "cell_type": "code",
   "execution_count": null,
   "metadata": {
    "collapsed": true
   },
   "outputs": [],
   "source": [
    "def chek_win(board_rep, marker):\n",
    "    return board_rep[7] == board_rep[8] == board_rep[9] == marker or board_rep[7] == board_rep[5] == board_rep[3] == marker or board_rep[4] == board_rep[5] == board_rep[6] == marker or board_rep[1] == board_rep[2] == board_rep[3] == marker or board_rep[7] == board_rep[4] == board_rep[1] == marker or board_rep[8] == board_rep[5] == board_rep[2] == marker or board_rep[9] == board_rep[6] == board_rep[3] == marker or board_rep[9] == board_rep[5] == board_rep[1] == marker\n",
    "        "
   ]
  },
  {
   "cell_type": "code",
   "execution_count": null,
   "metadata": {
    "collapsed": true
   },
   "outputs": [],
   "source": [
    "\n",
    "    if chek_win() == true:\n",
    "        print('player' + marker + 'won!')"
   ]
  },
  {
   "cell_type": "code",
   "execution_count": null,
   "metadata": {
    "collapsed": true
   },
   "outputs": [],
   "source": [
    "def cheking_tie()\n",
    "    return [board_rep for itm in board_rep if len(board_rep) == 3: if len(itm) == 3]"
   ]
  },
  {
   "cell_type": "code",
   "execution_count": null,
   "metadata": {
    "collapsed": true
   },
   "outputs": [],
   "source": [
    "def chek_tie(board_rep):\n",
    "    if chek_win() == false and cheking_tie() == true:\n",
    "        print('this is a tie!')\n",
    "        "
   ]
  },
  {
   "cell_type": "code",
   "execution_count": null,
   "metadata": {
    "collapsed": true
   },
   "outputs": [],
   "source": [
    "def call_everything(**functions):\n",
    "    return functions()"
   ]
  },
  {
   "cell_type": "code",
   "execution_count": null,
   "metadata": {
    "collapsed": true
   },
   "outputs": [],
   "source": [
    "print (call_everything(board_display(), player_in(), chek_win(), cheking_tie(), chek_tie()))"
   ]
  },
  {
   "cell_type": "code",
   "execution_count": null,
   "metadata": {
    "collapsed": true
   },
   "outputs": [],
   "source": []
  }
 ],
 "metadata": {
  "kernelspec": {
   "display_name": "Python 3",
   "language": "python",
   "name": "python3"
  },
  "language_info": {
   "codemirror_mode": {
    "name": "ipython",
    "version": 3
   },
   "file_extension": ".py",
   "mimetype": "text/x-python",
   "name": "python",
   "nbconvert_exporter": "python",
   "pygments_lexer": "ipython3",
   "version": "3.6.3"
  }
 },
 "nbformat": 4,
 "nbformat_minor": 2
}
